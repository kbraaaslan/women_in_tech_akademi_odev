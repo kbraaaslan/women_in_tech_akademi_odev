{
 "cells": [
  {
   "cell_type": "markdown",
   "metadata": {},
   "source": [
    " Bir liste üzerinde sıralama algoritmasını kullanarak listeyi sıralayınız."
   ]
  },
  {
   "cell_type": "markdown",
   "metadata": {},
   "source": [
    "Küçükten Büyüğe Doğru Sıralama"
   ]
  },
  {
   "cell_type": "code",
   "execution_count": 4,
   "metadata": {},
   "outputs": [
    {
     "name": "stdout",
     "output_type": "stream",
     "text": [
      "[-100, -20, -3, 0, 1, 4, 11, 15, 75, 99]\n"
     ]
    }
   ],
   "source": [
    "liste = [15, 11, -3, -20, 4, 1, 0, 99, 75, -100]\n",
    "\n",
    "def min_sort(numbers):\n",
    "  \n",
    "  for i in range(len(numbers)):\n",
    "      for j in range(len(numbers) - 1):\n",
    "          if numbers[j] > numbers[j + 1] :\n",
    "              numbers[j], numbers[j + 1] = numbers[j + 1], numbers[j]\n",
    "          else:\n",
    "              continue\n",
    "  print(numbers)\n",
    "\n",
    "min_sort(liste)"
   ]
  },
  {
   "cell_type": "markdown",
   "metadata": {},
   "source": [
    "Büyükten Küçüğe Doğru Sıralama"
   ]
  },
  {
   "cell_type": "code",
   "execution_count": 5,
   "metadata": {},
   "outputs": [
    {
     "name": "stdout",
     "output_type": "stream",
     "text": [
      "[99, 75, 15, 11, 4, 1, 0, -3, -20, -100]\n"
     ]
    }
   ],
   "source": [
    "liste = [15, 11, -3, -20, 4, 1, 0, 99, 75, -100]\n",
    "\n",
    "def max_sort(numbers):\n",
    "  \n",
    "  for i in range(len(numbers)):\n",
    "      for j in range(len(numbers) - 1):\n",
    "          if numbers[j] < numbers[j + 1] :\n",
    "              numbers[j], numbers[j + 1] = numbers[j + 1], numbers[j]\n",
    "          else:\n",
    "              continue\n",
    "  print(numbers)\n",
    "\n",
    "max_sort(liste)"
   ]
  }
 ],
 "metadata": {
  "kernelspec": {
   "display_name": "Python 3.10.8 64-bit (microsoft store)",
   "language": "python",
   "name": "python3"
  },
  "language_info": {
   "codemirror_mode": {
    "name": "ipython",
    "version": 3
   },
   "file_extension": ".py",
   "mimetype": "text/x-python",
   "name": "python",
   "nbconvert_exporter": "python",
   "pygments_lexer": "ipython3",
   "version": "3.10.8"
  },
  "orig_nbformat": 4,
  "vscode": {
   "interpreter": {
    "hash": "073e8530727d0ecfdd176c43b2dd31c2a4d5b0a16221492f1e532095387c064f"
   }
  }
 },
 "nbformat": 4,
 "nbformat_minor": 2
}
