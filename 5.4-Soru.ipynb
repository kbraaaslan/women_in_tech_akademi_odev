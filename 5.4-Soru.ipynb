{
 "cells": [
  {
   "cell_type": "markdown",
   "metadata": {},
   "source": [
    "Fonksiyon bir integer array nums ve bir hedef target değişkeni almalı ve bizlere toplamı target olan indexleri dönmeli.\n",
    "\n",
    "Kurallar: \n",
    "* Aynı index’teki değeri iki defa kullanamayız."
   ]
  },
  {
   "cell_type": "markdown",
   "metadata": {},
   "source": [
    "1.Örnek\n",
    "* Parametreler: nums = [2, 7, 11, 15], target = 9\n",
    "* Dönen Değer: [0, 1]\n",
    "* Açıklama: nums[0] ve nums[1]'deki değerlerin toplamı 9 yaptığı için çıktımız [0, 1] oldu."
   ]
  },
  {
   "cell_type": "code",
   "execution_count": 7,
   "metadata": {},
   "outputs": [
    {
     "name": "stdout",
     "output_type": "stream",
     "text": [
      "Hedef değeri: 9 \n",
      "Toplamı 9 yapan index değerleri: [0, 1]\n"
     ]
    }
   ],
   "source": [
    "def func(nums, target):\n",
    "    for i in range(len(nums)):\n",
    "        for j in range(len(nums)):\n",
    "            if i == j:\n",
    "                continue\n",
    "            if nums[i] + nums[j] == target:\n",
    "                return[i, j]\n",
    "\n",
    "\n",
    "nums = [2, 7, 11, 15]\n",
    "target = 9\n",
    "print(f\"Hedef değeri: {target} \\nToplamı {target} yapan index değerleri: {func(nums, target)}\" )"
   ]
  },
  {
   "cell_type": "markdown",
   "metadata": {},
   "source": [
    "2.Örnek\n",
    "* Parametreler: nums = [3, 2, 4], target = 6\n",
    "* Dönen Değer: [1, 2]\n",
    "* Açıklama: nums[1] ve nums[2]'deki değerlerin toplamı 6 yaptığı için çıktımız [1, 2] oldu.\n",
    "* Not: Burada [0, 0] çıktı olarak kabul edilemez. Çünkü aynı index'i kullanamayacağımız söylenmişti."
   ]
  },
  {
   "cell_type": "code",
   "execution_count": 8,
   "metadata": {},
   "outputs": [
    {
     "name": "stdout",
     "output_type": "stream",
     "text": [
      "Hedef değeri: 6 \n",
      "Toplamı 6 yapan index değerleri: [1, 2]\n"
     ]
    }
   ],
   "source": [
    "def func(nums, target):\n",
    "    for i in range(len(nums)):\n",
    "        for j in range(len(nums)):\n",
    "            if i == j:\n",
    "                continue\n",
    "            if nums[i] + nums[j] == target:\n",
    "                return[i, j]\n",
    "\n",
    "\n",
    "nums = [3, 2, 4]\n",
    "target = 6\n",
    "print(f\"Hedef değeri: {target} \\nToplamı {target} yapan index değerleri: {func(nums, target)}\" )"
   ]
  },
  {
   "cell_type": "markdown",
   "metadata": {},
   "source": [
    "3.Örnek\n",
    "* Parametreler: nums = [1, 2, 4, 1, 3], target = 7\n",
    "* Dönen Değer: [2, 4]\n",
    "* Açıklama: nums[2] ve nums[4]'deki değerlerin toplamı 7 yaptığı için çıktımız [2, 4] oldu."
   ]
  },
  {
   "cell_type": "code",
   "execution_count": 12,
   "metadata": {},
   "outputs": [
    {
     "name": "stdout",
     "output_type": "stream",
     "text": [
      "Hedef değeri: 7 \n",
      "Toplamı 7 yapan index değerleri: [2, 4]\n"
     ]
    }
   ],
   "source": [
    "def func(nums, target):\n",
    "    for i in range(len(nums)):\n",
    "        for j in range(len(nums)):\n",
    "            if i == j:\n",
    "                continue\n",
    "            if nums[i] + nums[j] == target:\n",
    "                return[i, j]\n",
    "\n",
    "\n",
    "nums = [1, 2, 4, 1, 3]\n",
    "target = 7\n",
    "print(f\"Hedef değeri: {target} \\nToplamı {target} yapan index değerleri: {func(nums, target)}\" )"
   ]
  }
 ],
 "metadata": {
  "kernelspec": {
   "display_name": "Python 3.10.8 64-bit (microsoft store)",
   "language": "python",
   "name": "python3"
  },
  "language_info": {
   "codemirror_mode": {
    "name": "ipython",
    "version": 3
   },
   "file_extension": ".py",
   "mimetype": "text/x-python",
   "name": "python",
   "nbconvert_exporter": "python",
   "pygments_lexer": "ipython3",
   "version": "3.10.8"
  },
  "orig_nbformat": 4,
  "vscode": {
   "interpreter": {
    "hash": "073e8530727d0ecfdd176c43b2dd31c2a4d5b0a16221492f1e532095387c064f"
   }
  }
 },
 "nbformat": 4,
 "nbformat_minor": 2
}
